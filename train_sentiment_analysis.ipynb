{
  "nbformat": 4,
  "nbformat_minor": 0,
  "metadata": {
    "anaconda-cloud": {},
    "kernelspec": {
      "display_name": "Python 3",
      "language": "python",
      "name": "python3"
    },
    "language_info": {
      "codemirror_mode": {
        "name": "ipython",
        "version": 2
      },
      "file_extension": ".py",
      "mimetype": "text/x-python",
      "name": "python",
      "nbconvert_exporter": "python",
      "pygments_lexer": "ipython2",
      "version": "2.7.3"
    },
    "pycharm": {
      "stem_cell": {
        "cell_type": "raw",
        "source": [],
        "metadata": {
          "collapsed": false
        }
      }
    },
    "colab": {
      "name": "Copy of train_sentiment_analysis.ipynb",
      "provenance": [],
      "collapsed_sections": [],
      "include_colab_link": true
    }
  },
  "cells": [
    {
      "cell_type": "markdown",
      "metadata": {
        "id": "view-in-github",
        "colab_type": "text"
      },
      "source": [
        "<a href=\"https://colab.research.google.com/github/karthikm15/NLP-Microservice-Deployment/blob/main/train_sentiment_analysis.ipynb\" target=\"_parent\"><img src=\"https://colab.research.google.com/assets/colab-badge.svg\" alt=\"Open In Colab\"/></a>"
      ]
    },
    {
      "cell_type": "markdown",
      "metadata": {
        "collapsed": false,
        "pycharm": {
          "name": "#%% md\n"
        },
        "id": "FPoANra_3Jcm"
      },
      "source": [
        "## Part 2: Training your own ML Model\n",
        "\n",
        "<a href=\"https://colab.research.google.com/github/peckjon/hosting-ml-as-microservice/blob/master/part2/train_sentiment_analysis.ipynb\" target=\"_parent\"><img src=\"https://colab.research.google.com/assets/colab-badge.svg\" alt=\"Open In Colab\"/></a>"
      ]
    },
    {
      "cell_type": "markdown",
      "metadata": {
        "id": "ksDaStsJ3Jcr"
      },
      "source": [
        "### Download corpuses\n",
        "\n",
        "We'll continue using the `movie_reviews` corpus to train our model. The `stopwords` corpus contains a [set of standard stopwords](https://gist.github.com/sebleier/554280) we'll want to remove from the input, and `punkt` is used for toneization in the [.words()](https://www.nltk.org/api/nltk.corpus.html#corpus-reader-functions) method of the corpus reader."
      ]
    },
    {
      "cell_type": "code",
      "metadata": {
        "pycharm": {
          "name": "#%%\n"
        },
        "id": "_hoD_oqe3Jcs",
        "outputId": "5614a882-1908-4773-e754-193931b92a4d",
        "colab": {
          "base_uri": "https://localhost:8080/"
        }
      },
      "source": [
        "from nltk import download\n",
        "\n",
        "download('movie_reviews')\n",
        "download('punkt')\n",
        "download('stopwords')"
      ],
      "execution_count": 1,
      "outputs": [
        {
          "output_type": "stream",
          "text": [
            "[nltk_data] Downloading package movie_reviews to /root/nltk_data...\n",
            "[nltk_data]   Unzipping corpora/movie_reviews.zip.\n",
            "[nltk_data] Downloading package punkt to /root/nltk_data...\n",
            "[nltk_data]   Unzipping tokenizers/punkt.zip.\n",
            "[nltk_data] Downloading package stopwords to /root/nltk_data...\n",
            "[nltk_data]   Unzipping corpora/stopwords.zip.\n"
          ],
          "name": "stdout"
        },
        {
          "output_type": "execute_result",
          "data": {
            "text/plain": [
              "True"
            ]
          },
          "metadata": {
            "tags": []
          },
          "execution_count": 1
        }
      ]
    },
    {
      "cell_type": "markdown",
      "metadata": {
        "id": "bA625uoh3Jc4"
      },
      "source": [
        "### Define feature extractor and bag-of-words converter\n",
        "\n",
        "Given a list of (already tokenized) words, we need a function to extract just the ones we care about: those not found in the list of English stopwords or standard punctuation.\n",
        "\n",
        "We also need a way to easily turn a list of words into a [bag-of-words](https://en.wikipedia.org/wiki/Bag-of-words_model), pairing each word with the count of its occurrences."
      ]
    },
    {
      "cell_type": "code",
      "metadata": {
        "id": "Lwg28nyN3Jc6"
      },
      "source": [
        "from nltk.corpus import stopwords\n",
        "from string import punctuation\n",
        "\n",
        "stopwords_eng = stopwords.words('english')\n",
        "\n",
        "def extract_features(words):\n",
        "    return [w for w in words if w not in stopwords_eng and w not in punctuation]\n",
        "\n",
        "def bag_of_words(words):\n",
        "    bag = {}\n",
        "    for w in words:\n",
        "        bag[w] = bag.get(w,0)+1\n",
        "    return bag"
      ],
      "execution_count": 2,
      "outputs": []
    },
    {
      "cell_type": "markdown",
      "metadata": {
        "id": "wzGaIagy3JdB"
      },
      "source": [
        "### Ingest, clean, and convert the positive and negative reviews\n",
        "\n",
        "For both the positive (\"pos\") and negative (\"neg\") sets of reviews, extract the features and convert to bag of words. From these, we construct a list of tuples known as a \"featureset\": the first part of each tuple is the bag of words for that review, and the second is its label (\"pos\"/\"neg\").\n",
        "\n",
        "Note that `movie_reviews.words(fileid)` provides a tokenized list of words. If we wanted the un-tokenized text, we would use `movie_reviews.raw(fileid)` instead, then tokenize it using our preferred tokenizeer (e.g. [nltk.tokenize.word_tokenize](https://www.nltk.org/api/nltk.tokenize.html#nltk.tokenize.punkt.PunktLanguageVars.word_tokenize))."
      ]
    },
    {
      "cell_type": "code",
      "metadata": {
        "id": "tjPIqEJX3JdC"
      },
      "source": [
        "from nltk.corpus import movie_reviews\n",
        "\n",
        "reviews_pos = []\n",
        "reviews_neg = []\n",
        "for fileid in movie_reviews.fileids('pos'):\n",
        "    words = extract_features(movie_reviews.words(fileid))\n",
        "    reviews_pos.append((bag_of_words(words), 'pos'))\n",
        "for fileid in movie_reviews.fileids('neg'):\n",
        "    words = extract_features(movie_reviews.words(fileid))\n",
        "    reviews_neg.append((bag_of_words(words), 'neg'))"
      ],
      "execution_count": 3,
      "outputs": []
    },
    {
      "cell_type": "markdown",
      "metadata": {
        "id": "Iem-aLLJ3JdJ"
      },
      "source": [
        "### Split reviews into training and test sets\n",
        "We need to break up each group of reviews into a training set (about 80%) and a test set (the remaining 20%). In case there's some meaningful order to the reviews (e.g. the first 800 are from one group of reviewers, the next 200 are from another), we shuffle the sets first to ensure we aren't introducing additional bias. Note that this means our accuracy will not be exactly the same on every run; if you wish to see consistent results on each run, you can stabilize the shuffle by calling [random.seed(n)](https://www.geeksforgeeks.org/random-seed-in-python/) first."
      ]
    },
    {
      "cell_type": "code",
      "metadata": {
        "id": "pmh2M_0j3JdK",
        "outputId": "833f551c-3d53-4f7f-f770-6a3d749a2f7c",
        "colab": {
          "base_uri": "https://localhost:8080/"
        }
      },
      "source": [
        "from random import shuffle\n",
        "\n",
        "split_pct = .80\n",
        "\n",
        "def split_set(review_set):\n",
        "    split = int(len(review_set)*split_pct)\n",
        "    return (review_set[:split], review_set[split:])\n",
        "\n",
        "shuffle(reviews_pos)\n",
        "shuffle(reviews_neg)\n",
        "\n",
        "pos_train, pos_test = split_set(reviews_pos)\n",
        "neg_train, neg_test = split_set(reviews_neg)\n",
        "\n",
        "train_set = pos_train+neg_train\n",
        "test_set = pos_test+neg_test\n",
        "\n",
        "print(train_set[0])"
      ],
      "execution_count": 4,
      "outputs": [
        {
          "output_type": "stream",
          "text": [
            "({'part': 1, 'former': 1, 'yugoslavia': 1, 'country': 3, 'croatia': 2, 'used': 3, 'almost': 4, 'completely': 1, 'ignored': 1, 'western': 1, 'films': 1, 'general': 1, 'words': 1, 'croatians': 2, 'unheard': 1, 'even': 1, 'movies': 3, 'whose': 4, 'plots': 3, 'actually': 1, 'took': 1, 'place': 2, 'croatian': 1, 'locations': 1, 'rare': 3, 'exception': 1, 'dogs': 4, 'war': 5, '1980': 1, 'adaptation': 1, 'frederick': 2, 'forsyth': 2, 'bestselling': 1, 'novel': 2, 'yet': 6, 'occasion': 1, 'added': 1, 'insult': 1, 'injury': 1, 'mentioning': 1, 'unflattering': 1, 'context': 1, 'single': 1, 'line': 2, 'referred': 1, 'bunch': 1, 'mean': 1, 'people': 1, 'probably': 1, 'terrorists': 1, 'happen': 1, 'remove': 1, 'parts': 1, 'arm': 1, 'dealers': 1, 'stomachs': 1, 'unsatisfied': 1, 'quality': 1, 'merchandise': 1, 'also': 3, 'illustrates': 1, 'milieu': 1, 'movie': 7, 'takes': 1, 'dark': 1, 'violent': 1, 'world': 2, 'shady': 1, 'international': 1, 'deals': 2, 'blurred': 1, 'boundaries': 1, 'business': 1, 'politics': 1, 'crime': 1, 'protagonist': 1, 'shannon': 5, 'christopher': 2, 'walken': 3, 'mercenary': 3, 'spent': 1, 'best': 1, 'years': 1, 'life': 4, 'fighting': 1, 'numerous': 1, 'little': 1, 'wars': 1, 'globe': 1, 'latest': 1, 'job': 1, 'intelligence': 1, 'mission': 1, 'powerful': 2, 'mining': 2, 'corporation': 1, 'demands': 1, 'information': 1, 'political': 2, 'climate': 1, 'west': 1, 'african': 1, 'nation': 1, 'zangaro': 1, 'arrives': 1, 'find': 2, 'oppressive': 1, 'regime': 1, 'president': 1, 'kimba': 3, 'bloodthirsty': 1, 'madman': 1, 'brutality': 1, 'crushed': 1, 'opposition': 1, 'scared': 1, 'westerners': 1, 'away': 1, 'arrested': 1, 'tortured': 1, 'secret': 1, 'police': 1, 'leaves': 1, 'help': 2, 'british': 1, 'journalist': 1, 'north': 1, 'colin': 2, 'blakely': 2, 'upon': 1, 'return': 1, 'approached': 1, 'company': 1, 'time': 1, 'want': 1, 'plan': 1, 'execute': 1, 'coup': 1, 'etat': 1, 'reluctantly': 1, 'agrees': 1, 'assembles': 1, 'small': 2, 'group': 1, 'surviving': 1, 'friends': 2, 'begin': 1, 'meticulous': 1, 'preparation': 1, 'another': 1, 'thing': 1, 'separates': 1, 'conventional': 2, 'action': 4, 'especially': 1, 'made': 3, '1980s': 2, 'authenticity': 1, 'close': 1, 'documentary': 2, 'surprise': 2, 'anyone': 1, 'author': 2, 'reputation': 2, 'blending': 1, 'fiction': 1, 'real': 3, 'thus': 1, 'creating': 1, 'interesting': 2, 'exciting': 1, 'believable': 1, 'books': 1, 'responsible': 1, 'successful': 1, '1970s': 2, 'thrillers': 1, 'one': 2, 'zinnemman': 1, 'day': 1, 'jackal': 1, 'considered': 1, 'classic': 1, 'genre': 1, 'soldiers': 1, 'fortune': 1, 'ancient': 1, 'tradition': 1, 'resurrected': 1, 'great': 1, 'turmoil': 1, '1960s': 1, 'filled': 1, 'void': 1, 'left': 1, 'vanishing': 1, 'colonial': 1, 'empires': 1, 'unlike': 2, 'wild': 1, 'geese': 1, 'pretext': 1, 'adventure': 1, 'script': 4, 'george': 1, 'malko': 1, 'gary': 1, 'de': 1, 'vore': 1, 'death': 1, 'last': 1, 'year': 1, 'became': 1, 'mystery': 1, 'serious': 1, 'instead': 1, 'puts': 1, 'emphasis': 1, 'characters': 1, 'prosaic': 1, 'details': 1, 'work': 2, 'try': 1, 'romanticise': 1, 'profession': 1, 'glorify': 1, 'mercenaries': 2, 'kind': 1, 'superheroes': 2, 'simply': 1, 'shown': 1, 'deadly': 1, 'expendable': 1, 'tool': 1, 'forces': 1, 'questionable': 1, 'agenda': 1, 'played': 1, 'many': 1, 'rarely': 1, 'see': 2, 'leading': 1, 'role': 1, 'performance': 1, 'film': 1, 'perhaps': 1, 'breathtaking': 1, 'adequate': 1, 'notoriously': 1, 'expressionless': 1, 'face': 1, 'perfect': 1, 'illustration': 1, 'disillusioned': 1, 'weary': 1, 'man': 1, 'alienation': 1, 'normal': 1, 'way': 1, 'becomes': 1, 'complete': 1, 'remaining': 1, 'ideal': 1, 'loyalty': 1, 'shrinking': 1, 'circle': 1, 'although': 1, 'lack': 1, 'capable': 2, 'actors': 1, 'roles': 1, 'miniature': 1, 'compared': 1, 'cynical': 1, 'reporter': 1, 'opportunity': 1, 'portray': 1, 'character': 1, 'however': 1, 'look': 1, 'familiar': 1, 'faces': 1, 'would': 1, 'plenty': 1, 'tom': 1, 'berenger': 1, 'paul': 1, 'freeman': 1, 'jo': 1, 'beth': 1, 'williams': 1, 'victoria': 1, 'tennant': 1, 'brief': 1, 'cameo': 1, 'biggest': 1, 'ed': 1, 'neill': 1, 'married': 1, 'children': 1, 'fame': 1, 'reluctant': 1, 'colleague': 1, 'first': 1, 'major': 1, 'production': 1, 'john': 1, 'irvin': 4, 'shows': 2, 'earned': 1, 'second': 1, 'class': 1, 'director': 1, 'good': 3, 'make': 2, 'bad': 1, 'mess': 1, 'luckily': 1, 'direction': 1, 'ascetic': 1, 'gave': 1, 'feel': 1, 'distraction': 1, 'dramatic': 1, 'music': 1, 'geoffrey': 1, 'burgon': 1, 'wrong': 1, 'places': 1, 'final': 1, 'battle': 2, 'scene': 1, 'us': 1, 'modern': 1, 'warfare': 1, 'means': 1, 'superior': 1, 'firepower': 1, 'tactics': 1, 'ramboesque': 1, 'fantasies': 1, 'rely': 1, 'macho': 1, 'unfortunately': 1, 'making': 1, 'realistic': 2, 'somewhat': 1, 'less': 1, 'attractive': 1, 'sloppy': 1, 'editing': 1, 'despite': 1, 'shortcomings': 1, 'remains': 1, 'combination': 1, 'thriller': 1, 'gritty': 1, 'drama': 1}, 'pos')\n"
          ],
          "name": "stdout"
        }
      ]
    },
    {
      "cell_type": "markdown",
      "metadata": {
        "id": "kslV2DcH3JdR"
      },
      "source": [
        "### Train the model\n",
        "\n",
        "Now that our data is ready, the training step itself is quite simple if we use the [NaiveBayesClassifier](https://www.nltk.org/api/nltk.classify.html#module-nltk.classify.naivebayes) provided by NLTK.\n",
        "\n",
        "If you are used to methods such as `model.fit(x,y)` which take two parameters -- the data and the labels -- it may be confusing that `NaiveBayesClassifier.train` takes just one argument. This is because the labels are already embedded in `train_set`: each element in the set is a Bag of Words paired with a 'pos' or 'neg'; value."
      ]
    },
    {
      "cell_type": "code",
      "metadata": {
        "id": "RqBVdheA3JdS"
      },
      "source": [
        "from nltk.classify import NaiveBayesClassifier\n",
        "import sklearn\n",
        "from nltk.classify import SklearnClassifier\n",
        "from sklearn.naive_bayes import BernoulliNB\n",
        "from sklearn.svm import SVC\n",
        "\n",
        "\n",
        "model1 = NaiveBayesClassifier.train(train_set)\n",
        "model2 = SklearnClassifier(SVC(), sparse=False).train(train_set)"
      ],
      "execution_count": 5,
      "outputs": []
    },
    {
      "cell_type": "markdown",
      "metadata": {
        "id": "ZhaBNO5r3JdY"
      },
      "source": [
        "### Check model accuracy\n",
        "\n",
        "NLTK's built-in [accuracy](https://www.nltk.org/api/nltk.classify.html#module-nltk.classify.util) utility can run our test_set through the model and compare the labels returned by the model to the labels in the test set, producing an overall % accuracy. Not too impressive, right? We need to improve."
      ]
    },
    {
      "cell_type": "code",
      "metadata": {
        "id": "NuIA6k0-3Jda",
        "outputId": "adc3f549-ed0d-4b82-ae8d-697b2bcdfc3f",
        "colab": {
          "base_uri": "https://localhost:8080/"
        }
      },
      "source": [
        "from nltk.classify.util import accuracy\n",
        "import nltk\n",
        "\n",
        "print('SKLearn Classifier Accuracy: ' + str(nltk.classify.accuracy(model2, test_set)*100))\n",
        "print('NaiveBayesClassifier Accuracy: ' + str(100 * accuracy(model1, test_set)))"
      ],
      "execution_count": 8,
      "outputs": [
        {
          "output_type": "stream",
          "text": [
            "SKLearn Classifier Accuracy: 83.75\n",
            "NaiveBayesClassifier Accuracy: 70.25\n"
          ],
          "name": "stdout"
        }
      ]
    },
    {
      "cell_type": "markdown",
      "metadata": {
        "id": "N3_tk8E-3Jdg"
      },
      "source": [
        "### Save the model\n",
        "Our trained model will be cleared from memory when this notebook is closed. So that we can use it again later, save the model as a file using the [pickle](https://docs.python.org/3/library/pickle.html) serializer."
      ]
    },
    {
      "cell_type": "code",
      "metadata": {
        "pycharm": {
          "name": "#%%\n"
        },
        "id": "GvSu7T-M3Jdh"
      },
      "source": [
        "import pickle\n",
        "\n",
        "model_file = open('nb_classifier.pickle','wb')\n",
        "model_file2 = open('sk_classifier.pickle','wb')\n",
        "pickle.dump(model1, model_file)\n",
        "pickle.dump(model2, model_file2)\n",
        "model_file.close()"
      ],
      "execution_count": 10,
      "outputs": []
    },
    {
      "cell_type": "markdown",
      "metadata": {
        "id": "wck1Siuy3Jdq"
      },
      "source": [
        "### Save the model (Colab version)\n",
        "\n",
        "Google Colab doesn't provide direct access to files saved during a notebook session, so we need to save it in [Google Drive](https://drive.google.com) instead. The first time you run this, it will ask for permission to access your Google Drive. Follow the instructions, then wait a few minutes and look for a new folder called \"Colab Output\" in [Drive](https://drive.google.com). Note that Colab does not alway sync to Drive immediately, so check the file update times and re-run this cell if it doesn't look like you have the most revent version of your file."
      ]
    },
    {
      "cell_type": "code",
      "metadata": {
        "id": "Y4_xxYbt3Jdr",
        "outputId": "33b75b78-1fb3-47e4-999d-22b2dd73aee7",
        "colab": {
          "base_uri": "https://localhost:8080/"
        }
      },
      "source": [
        "import sys\n",
        "if 'google.colab' in sys.modules:\n",
        "    from google.colab import drive\n",
        "    drive.mount('/content/gdrive')\n",
        "    !mkdir -p '/content/gdrive/My Drive/Colab Output'\n",
        "    model_file = open('/content/gdrive/My Drive/Colab Output/sa_classifier.pickle','wb')\n",
        "    pickle.dump(model, model_file)\n",
        "    model_file.flush()\n",
        "    print('Model saved in /content/gdrive/My Drive/Colab Output')\n",
        "    !ls '/content/gdrive/My Drive/Colab Output'\n",
        "    drive.flush_and_unmount()\n",
        "    print('Re-run this cell if you cannot find it in https://drive.google.com')"
      ],
      "execution_count": null,
      "outputs": [
        {
          "output_type": "stream",
          "text": [
            "Drive already mounted at /content/gdrive; to attempt to forcibly remount, call drive.mount(\"/content/gdrive\", force_remount=True).\n",
            "Model saved in /content/gdrive/My Drive/Colab Output\n",
            "sa_classifier.pickle\n",
            "Re-run this cell if you cannot find it in https://drive.google.com\n"
          ],
          "name": "stdout"
        }
      ]
    },
    {
      "cell_type": "code",
      "metadata": {
        "id": "kDVhAqnN6rLB"
      },
      "source": [
        ""
      ],
      "execution_count": null,
      "outputs": []
    }
  ]
}