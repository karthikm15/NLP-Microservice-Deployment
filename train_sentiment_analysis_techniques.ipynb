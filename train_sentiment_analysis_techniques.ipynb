{
  "nbformat": 4,
  "nbformat_minor": 0,
  "metadata": {
    "anaconda-cloud": {},
    "kernelspec": {
      "display_name": "Python 3",
      "language": "python",
      "name": "python3"
    },
    "language_info": {
      "codemirror_mode": {
        "name": "ipython",
        "version": 2
      },
      "file_extension": ".py",
      "mimetype": "text/x-python",
      "name": "python",
      "nbconvert_exporter": "python",
      "pygments_lexer": "ipython2",
      "version": "2.7.3"
    },
    "pycharm": {
      "stem_cell": {
        "cell_type": "raw",
        "source": [],
        "metadata": {
          "collapsed": false
        }
      }
    },
    "colab": {
      "name": "Copy of train_sentiment_analysis.ipynb",
      "provenance": [],
      "collapsed_sections": [],
      "include_colab_link": true
    }
  },
  "cells": [
    {
      "cell_type": "markdown",
      "metadata": {
        "id": "view-in-github",
        "colab_type": "text"
      },
      "source": [
        "<a href=\"https://colab.research.google.com/github/karthikm15/NLP-Microservice-Deployment/blob/main/train_sentiment_analysis_techniques.ipynb\" target=\"_parent\"><img src=\"https://colab.research.google.com/assets/colab-badge.svg\" alt=\"Open In Colab\"/></a>"
      ]
    },
    {
      "cell_type": "markdown",
      "metadata": {
        "collapsed": false,
        "pycharm": {
          "name": "#%% md\n"
        },
        "id": "FPoANra_3Jcm"
      },
      "source": [
        "## Part 2: Training your own ML Model\n",
        "\n",
        "<a href=\"https://colab.research.google.com/github/peckjon/hosting-ml-as-microservice/blob/master/part2/train_sentiment_analysis.ipynb\" target=\"_parent\"><img src=\"https://colab.research.google.com/assets/colab-badge.svg\" alt=\"Open In Colab\"/></a>"
      ]
    },
    {
      "cell_type": "markdown",
      "metadata": {
        "id": "ksDaStsJ3Jcr"
      },
      "source": [
        "### Download corpuses\n",
        "\n",
        "We'll continue using the `movie_reviews` corpus to train our model. The `stopwords` corpus contains a [set of standard stopwords](https://gist.github.com/sebleier/554280) we'll want to remove from the input, and `punkt` is used for toneization in the [.words()](https://www.nltk.org/api/nltk.corpus.html#corpus-reader-functions) method of the corpus reader."
      ]
    },
    {
      "cell_type": "code",
      "metadata": {
        "pycharm": {
          "name": "#%%\n"
        },
        "id": "_hoD_oqe3Jcs",
        "outputId": "3cad6ccc-6d37-4930-ae85-4ad3f039e58b",
        "colab": {
          "base_uri": "https://localhost:8080/"
        }
      },
      "source": [
        "from nltk import download\n",
        "\n",
        "download('movie_reviews')\n",
        "download('punkt')\n",
        "download('stopwords')"
      ],
      "execution_count": 27,
      "outputs": [
        {
          "output_type": "stream",
          "text": [
            "[nltk_data] Downloading package movie_reviews to /root/nltk_data...\n",
            "[nltk_data]   Package movie_reviews is already up-to-date!\n",
            "[nltk_data] Downloading package punkt to /root/nltk_data...\n",
            "[nltk_data]   Package punkt is already up-to-date!\n",
            "[nltk_data] Downloading package stopwords to /root/nltk_data...\n",
            "[nltk_data]   Package stopwords is already up-to-date!\n"
          ],
          "name": "stdout"
        },
        {
          "output_type": "execute_result",
          "data": {
            "text/plain": [
              "True"
            ]
          },
          "metadata": {
            "tags": []
          },
          "execution_count": 27
        }
      ]
    },
    {
      "cell_type": "markdown",
      "metadata": {
        "id": "bA625uoh3Jc4"
      },
      "source": [
        "### Define feature extractor and bag-of-words converter\n",
        "\n",
        "Given a list of (already tokenized) words, we need a function to extract just the ones we care about: those not found in the list of English stopwords or standard punctuation.\n",
        "\n",
        "We also need a way to easily turn a list of words into a [bag-of-words](https://en.wikipedia.org/wiki/Bag-of-words_model), pairing each word with the count of its occurrences."
      ]
    },
    {
      "cell_type": "code",
      "metadata": {
        "id": "Lwg28nyN3Jc6"
      },
      "source": [
        "from nltk.corpus import stopwords\n",
        "from string import punctuation\n",
        "\n",
        "stopwords_eng = stopwords.words('english')\n",
        "\n",
        "def extract_features(words):\n",
        "    return [w for w in words if w not in stopwords_eng and w not in punctuation]\n",
        "\n",
        "def bag_of_words(words):\n",
        "    bag = {}\n",
        "    for w in words:\n",
        "        bag[w] = bag.get(w,0)+1\n",
        "    return bag"
      ],
      "execution_count": 28,
      "outputs": []
    },
    {
      "cell_type": "markdown",
      "metadata": {
        "id": "wzGaIagy3JdB"
      },
      "source": [
        "### Ingest, clean, and convert the positive and negative reviews\n",
        "\n",
        "For both the positive (\"pos\") and negative (\"neg\") sets of reviews, extract the features and convert to bag of words. From these, we construct a list of tuples known as a \"featureset\": the first part of each tuple is the bag of words for that review, and the second is its label (\"pos\"/\"neg\").\n",
        "\n",
        "Note that `movie_reviews.words(fileid)` provides a tokenized list of words. If we wanted the un-tokenized text, we would use `movie_reviews.raw(fileid)` instead, then tokenize it using our preferred tokenizeer (e.g. [nltk.tokenize.word_tokenize](https://www.nltk.org/api/nltk.tokenize.html#nltk.tokenize.punkt.PunktLanguageVars.word_tokenize))."
      ]
    },
    {
      "cell_type": "code",
      "metadata": {
        "id": "tjPIqEJX3JdC"
      },
      "source": [
        "from nltk.corpus import movie_reviews\n",
        "\n",
        "reviews_pos = []\n",
        "reviews_neg = []\n",
        "for fileid in movie_reviews.fileids('pos'):\n",
        "    words = extract_features(movie_reviews.words(fileid))\n",
        "    reviews_pos.append((bag_of_words(words), 'pos'))\n",
        "for fileid in movie_reviews.fileids('neg'):\n",
        "    words = extract_features(movie_reviews.words(fileid))\n",
        "    reviews_neg.append((bag_of_words(words), 'neg'))"
      ],
      "execution_count": 29,
      "outputs": []
    },
    {
      "cell_type": "markdown",
      "metadata": {
        "id": "Iem-aLLJ3JdJ"
      },
      "source": [
        "### Split reviews into training and test sets\n",
        "We need to break up each group of reviews into a training set (about 80%) and a test set (the remaining 20%). In case there's some meaningful order to the reviews (e.g. the first 800 are from one group of reviewers, the next 200 are from another), we shuffle the sets first to ensure we aren't introducing additional bias. Note that this means our accuracy will not be exactly the same on every run; if you wish to see consistent results on each run, you can stabilize the shuffle by calling [random.seed(n)](https://www.geeksforgeeks.org/random-seed-in-python/) first."
      ]
    },
    {
      "cell_type": "code",
      "metadata": {
        "id": "pmh2M_0j3JdK",
        "outputId": "c1243c7e-8a27-49f6-d7df-e2a515322c39",
        "colab": {
          "base_uri": "https://localhost:8080/"
        }
      },
      "source": [
        "from random import shuffle\n",
        "\n",
        "split_pct = .80\n",
        "\n",
        "def split_set(review_set):\n",
        "    split = int(len(review_set)*split_pct)\n",
        "    return (review_set[:split], review_set[split:])\n",
        "\n",
        "shuffle(reviews_pos)\n",
        "shuffle(reviews_neg)\n",
        "\n",
        "pos_train, pos_test = split_set(reviews_pos)\n",
        "neg_train, neg_test = split_set(reviews_neg)\n",
        "\n",
        "train_set = pos_train+neg_train\n",
        "test_set = pos_test+neg_test\n",
        "\n",
        "print(train_set[0])"
      ],
      "execution_count": 30,
      "outputs": [
        {
          "output_type": "stream",
          "text": [
            "({'hilarious': 1, 'ultra': 1, 'low': 1, 'budget': 2, 'comedy': 2, 'film': 7, 'school': 1, 'dropout': 1, 'kevin': 1, 'smith': 1, 'chronicles': 1, 'day': 3, 'life': 2, 'two': 2, 'convenience': 1, 'store': 1, 'slackers': 1, 'brian': 1, 'halloran': 1, 'jeff': 1, 'anderson': 1, 'spend': 2, 'ignoring': 1, 'customers': 1, 'discussing': 1, 'everything': 1, 'fellatio': 1, 'self': 1, 'fulfillment': 1, 'premise': 2, 'strictly': 1, 'sitcom': 1, 'photography': 1, 'grainy': 1, 'get': 3, 'could': 1, 'ten': 1, 'times': 1, 'reported': 1, '27': 1, '000': 1, 'still': 2, 'dialogue': 1, 'half': 2, 'good': 1, 'originally': 1, 'rated': 1, 'nc': 1, '17': 1, 'language': 1, 'recommended': 1, 'viewers': 1, 'sensitive': 1, 'ears': 1, 'killing': 2, 'zoe': 2, '===========': 1, 'remake': 2, 'reservoir': 1, 'dogs': 1, 'french': 2, 'art': 2, 'halfway': 1, 'writer': 2, 'director': 4, 'roger': 1, 'avary': 2, 'slow': 1, 'moving': 1, 'story': 3, 'failed': 2, 'bastille': 1, 'bank': 3, 'robbery': 1, 'eric': 1, 'stoltz': 1, 'stars': 2, 'american': 1, 'paris': 1, 'gets': 3, 'way': 1, 'head': 1, 'hooks': 1, 'band': 1, 'nihilistic': 1, 'robbers': 1, 'safecracker': 1, 'blissful': 1, 'unaware': 1, 'job': 2, 'botch': 1, 'word': 1, 'go': 2, 'though': 2, 'intriguing': 1, 'fronts': 1, 'paced': 1, 'speed': 1, 'pulp': 2, 'fiction': 2, 'co': 2, 'wrote': 1, 'quentin': 1, 'tarantino': 1, 'english': 1, 'road': 2, 'wellville': 2, '=====================': 2, 'based': 1, 'novel': 1, 'coraghessan': 1, 'boyle': 2, 'far': 1, 'bowels': 3, 'explored': 1, 'dr': 1, 'john': 4, 'harvey': 1, 'kellogg': 2, 'buck': 1, 'toothed': 1, 'bespectacled': 1, 'anthony': 1, 'hopkins': 1, 'early': 3, '1900': 1, 'advocated': 1, 'abstinence': 1, 'vegetarianism': 1, 'frequent': 1, 'defecation': 1, 'also': 1, 'invented': 1, 'cornflake': 1, 'really': 1, 'checking': 1, 'battle': 1, 'creek': 1, 'sanitarium': 1, 'matthew': 1, 'broderick': 1, 'bridget': 1, 'fonda': 1, 'many': 2, 'well': 2, 'known': 1, 'faces': 1, 'leave': 1, 'laughter': 1, 'door': 1, 'marvel': 1, 'unfunny': 1, 'antics': 1, 'cusack': 1, 'michael': 1, 'lerner': 1, 'lara': 1, 'flynn': 1, 'neville': 1, 'dana': 1, 'carvey': 1, 'direction': 2, 'impeccable': 1, 'sequences': 1, 'amusing': 1, 'novelty': 1, 'quickly': 1, 'wears': 1, 'alan': 1, 'parkers': 1, 'tries': 1, 'darnedness': 1, 'turn': 1, 'doo': 2, 'drama': 1, 'ends': 2, 'something': 1, 'print': 1, 'phew': 1, 'stargate': 1, '========': 1, 'lawrence': 1, 'arabia': 1, 'meets': 1, 'star': 4, 'wars': 1, 'epic': 1, 'sci': 3, 'fi': 3, 'sheer': 1, 'spectacle': 1, 'anything': 1, 'else': 2, 'roland': 1, 'emmerich': 1, 'universal': 1, 'solider': 1, 'shamelessly': 1, 'rips': 1, 'lucas': 1, 'spielberg': 1, 'cosmic': 1, 'cliche': 1, 'lay': 1, 'hands': 1, 'overlong': 1, 'characters': 1, 'cardboard': 1, 'script': 1, 'filled': 1, 'laughable': 1, 'details': 1, 'modern': 1, 'history': 1, 'said': 1, 'plenty': 1, 'watch': 1, 'fans': 2, 'enjoy': 1, 'sculpted': 1, 'sands': 1, 'morphing': 1, 'headdresses': 1, 'surprisingly': 1, 'spunky': 1, 'james': 2, 'spader': 1, 'plays': 1, 'egyptologist': 1, 'prove': 1, 'theory': 1, 'somebody': 1, 'built': 1, 'pyramids': 1, 'less': 1, 'interesting': 2, 'kurt': 1, 'russell': 1, 'jaye': 1, 'davidson': 1, 'crying': 1, 'game': 1, 'fame': 1, 'trek': 4, 'generations': 2, 'may': 1, 'forgiving': 1, 'rest': 1, 'us': 1, 'sluggish': 1, 'mixed': 1, 'bag': 1, 'best': 2, 'scene': 3, 'goes': 2, 'long': 1, 'cast': 1, 'earnest': 1, 'lacks': 1, 'punch': 1, 'example': 1, 'latter': 1, 'klingon': 1, 'comeuppance': 1, 'delivers': 1, 'none': 1, 'impact': 1, 'similar': 1, 'ii': 1, 'original': 2, 'enterprise': 1, 'captain': 1, 'kirk': 1, 'appears': 1, 'cut': 1, 'shatner': 1, 'turns': 1, 'screen': 1, 'plead': 1, 'remarkably': 1, 'unremarkable': 1, 'miracle': 2, '34th': 2, 'street': 2, '======================': 1, 'season': 1, 'specialist': 1, 'et': 1, 'al': 1, 'maybe': 1, 'necessary': 1, 'hughes': 1, 'certainly': 1, 'believes': 1, 'santa': 1, 'claus': 2, 'les': 1, 'mayfield': 1, 'directed': 1, 'production': 1, 'nothing': 2, 'tarnish': 1, 'memory': 1, '1947': 1, 'romance': 1, 'costars': 1, 'dylan': 1, 'mcdermott': 1, 'elizabeth': 1, 'perkins': 1, 'work': 1, 'makes': 1, 'strong': 1, 'case': 1, 'richard': 1, 'attenborough': 1, 'definitive': 1, 'kriss': 1, 'kringle': 1, 'chemistry': 1, 'children': 1, 'moisten': 1, 'eye': 1, 'alarm': 1, 'junior': 1, '======': 1, 'arnold': 1, 'schwarzenegger': 1, 'pregnant': 1, 'sure': 1, 'billy': 1, 'crystal': 1, 'rabbit': 1, 'test': 1, 'sight': 1, 'schwarz': 1, 'bulging': 1, 'belly': 1, 'casting': 1, 'coup': 1, 'comparable': 1, 'dustin': 1, 'hoffman': 1, 'tootsie': 1, 'one': 1, 'joke': 1, 'actually': 1, 'better': 1, 'along': 1, 'ivan': 1, 'reitman': 1, 'dave': 1, 'twins': 1, 'wisely': 1, 'keeps': 1, 'farce': 1, 'minimum': 1, 'first': 1, 'hour': 1, 'moves': 1, 'slower': 1, 'might': 1, 'expect': 2, 'yuks': 1, 'danny': 1, 'devito': 1, 'beat': 1, 'romantic': 1, 'scenes': 1, 'emma': 1, 'arnie': 1, 'collision': 1, 'acting': 1, 'styles': 1}, 'pos')\n"
          ],
          "name": "stdout"
        }
      ]
    },
    {
      "cell_type": "markdown",
      "metadata": {
        "id": "kslV2DcH3JdR"
      },
      "source": [
        "### Train the model\n",
        "\n",
        "Now that our data is ready, the training step itself is quite simple if we use the [NaiveBayesClassifier](https://www.nltk.org/api/nltk.classify.html#module-nltk.classify.naivebayes) provided by NLTK.\n",
        "\n",
        "If you are used to methods such as `model.fit(x,y)` which take two parameters -- the data and the labels -- it may be confusing that `NaiveBayesClassifier.train` takes just one argument. This is because the labels are already embedded in `train_set`: each element in the set is a Bag of Words paired with a 'pos' or 'neg'; value."
      ]
    },
    {
      "cell_type": "code",
      "metadata": {
        "id": "RqBVdheA3JdS"
      },
      "source": [
        "from nltk.classify import NaiveBayesClassifier\n",
        "import sklearn\n",
        "from nltk.classify import SklearnClassifier\n",
        "from sklearn.naive_bayes import BernoulliNB\n",
        "from sklearn.svm import SVC\n",
        "\n",
        "\n",
        "model1 = NaiveBayesClassifier.train(train_set)\n",
        "# model2 = SklearnClassifier(SVC(), sparse=False).train(train_set)"
      ],
      "execution_count": 31,
      "outputs": []
    },
    {
      "cell_type": "markdown",
      "metadata": {
        "id": "ZhaBNO5r3JdY"
      },
      "source": [
        "### Check model accuracy\n",
        "\n",
        "NLTK's built-in [accuracy](https://www.nltk.org/api/nltk.classify.html#module-nltk.classify.util) utility can run our test_set through the model and compare the labels returned by the model to the labels in the test set, producing an overall % accuracy. Not too impressive, right? We need to improve."
      ]
    },
    {
      "cell_type": "code",
      "metadata": {
        "id": "NuIA6k0-3Jda",
        "outputId": "7bad1ed8-e512-41f8-eb1a-8e46ff47439c",
        "colab": {
          "base_uri": "https://localhost:8080/"
        }
      },
      "source": [
        "from nltk.classify.util import accuracy\n",
        "import nltk\n",
        "\n",
        "# print('SKLearn Classifier Accuracy: ' + str(nltk.classify.accuracy(model2, test_set)*100))\n",
        "print('NaiveBayesClassifier Accuracy: ' + str(100 * accuracy(model1, test_set)))"
      ],
      "execution_count": 15,
      "outputs": [
        {
          "output_type": "stream",
          "text": [
            "NaiveBayesClassifier Accuracy: 66.75\n"
          ],
          "name": "stdout"
        }
      ]
    },
    {
      "cell_type": "markdown",
      "metadata": {
        "id": "N3_tk8E-3Jdg"
      },
      "source": [
        "### Save the model\n",
        "Our trained model will be cleared from memory when this notebook is closed. So that we can use it again later, save the model as a file using the [pickle](https://docs.python.org/3/library/pickle.html) serializer."
      ]
    },
    {
      "cell_type": "code",
      "metadata": {
        "pycharm": {
          "name": "#%%\n"
        },
        "id": "GvSu7T-M3Jdh",
        "outputId": "d1e6452b-f51b-41f2-8740-bee4291b5864",
        "colab": {
          "base_uri": "https://localhost:8080/",
          "height": 232
        }
      },
      "source": [
        "import pickle\n",
        "\n",
        "model_file = open('nb_classifier.pickle','wb')\n",
        "model_file2 = open('sk_classifier.pickle','wb')\n",
        "pickle.dump(model1, model_file)\n",
        "pickle.dump(model2, model_file2)\n",
        "model_file.close()"
      ],
      "execution_count": 8,
      "outputs": [
        {
          "output_type": "error",
          "ename": "NameError",
          "evalue": "ignored",
          "traceback": [
            "\u001b[0;31m---------------------------------------------------------------------------\u001b[0m",
            "\u001b[0;31mNameError\u001b[0m                                 Traceback (most recent call last)",
            "\u001b[0;32m<ipython-input-8-5d0e62e20872>\u001b[0m in \u001b[0;36m<module>\u001b[0;34m()\u001b[0m\n\u001b[1;32m      3\u001b[0m \u001b[0mmodel_file\u001b[0m \u001b[0;34m=\u001b[0m \u001b[0mopen\u001b[0m\u001b[0;34m(\u001b[0m\u001b[0;34m'nb_classifier.pickle'\u001b[0m\u001b[0;34m,\u001b[0m\u001b[0;34m'wb'\u001b[0m\u001b[0;34m)\u001b[0m\u001b[0;34m\u001b[0m\u001b[0;34m\u001b[0m\u001b[0m\n\u001b[1;32m      4\u001b[0m \u001b[0mmodel_file2\u001b[0m \u001b[0;34m=\u001b[0m \u001b[0mopen\u001b[0m\u001b[0;34m(\u001b[0m\u001b[0;34m'sk_classifier.pickle'\u001b[0m\u001b[0;34m,\u001b[0m\u001b[0;34m'wb'\u001b[0m\u001b[0;34m)\u001b[0m\u001b[0;34m\u001b[0m\u001b[0;34m\u001b[0m\u001b[0m\n\u001b[0;32m----> 5\u001b[0;31m \u001b[0mpickle\u001b[0m\u001b[0;34m.\u001b[0m\u001b[0mdump\u001b[0m\u001b[0;34m(\u001b[0m\u001b[0mmodel1\u001b[0m\u001b[0;34m,\u001b[0m \u001b[0mmodel_file\u001b[0m\u001b[0;34m)\u001b[0m\u001b[0;34m\u001b[0m\u001b[0;34m\u001b[0m\u001b[0m\n\u001b[0m\u001b[1;32m      6\u001b[0m \u001b[0mpickle\u001b[0m\u001b[0;34m.\u001b[0m\u001b[0mdump\u001b[0m\u001b[0;34m(\u001b[0m\u001b[0mmodel2\u001b[0m\u001b[0;34m,\u001b[0m \u001b[0mmodel_file2\u001b[0m\u001b[0;34m)\u001b[0m\u001b[0;34m\u001b[0m\u001b[0;34m\u001b[0m\u001b[0m\n\u001b[1;32m      7\u001b[0m \u001b[0mmodel_file\u001b[0m\u001b[0;34m.\u001b[0m\u001b[0mclose\u001b[0m\u001b[0;34m(\u001b[0m\u001b[0;34m)\u001b[0m\u001b[0;34m\u001b[0m\u001b[0;34m\u001b[0m\u001b[0m\n",
            "\u001b[0;31mNameError\u001b[0m: name 'model1' is not defined"
          ]
        }
      ]
    },
    {
      "cell_type": "markdown",
      "metadata": {
        "id": "wck1Siuy3Jdq"
      },
      "source": [
        "### Save the model (Colab version)\n",
        "\n",
        "Google Colab doesn't provide direct access to files saved during a notebook session, so we need to save it in [Google Drive](https://drive.google.com) instead. The first time you run this, it will ask for permission to access your Google Drive. Follow the instructions, then wait a few minutes and look for a new folder called \"Colab Output\" in [Drive](https://drive.google.com). Note that Colab does not alway sync to Drive immediately, so check the file update times and re-run this cell if it doesn't look like you have the most revent version of your file."
      ]
    },
    {
      "cell_type": "code",
      "metadata": {
        "id": "Y4_xxYbt3Jdr",
        "outputId": "33b75b78-1fb3-47e4-999d-22b2dd73aee7",
        "colab": {
          "base_uri": "https://localhost:8080/"
        }
      },
      "source": [
        "import sys\n",
        "if 'google.colab' in sys.modules:\n",
        "    from google.colab import drive\n",
        "    drive.mount('/content/gdrive')\n",
        "    !mkdir -p '/content/gdrive/My Drive/Colab Output'\n",
        "    model_file = open('/content/gdrive/My Drive/Colab Output/sa_classifier.pickle','wb')\n",
        "    pickle.dump(model, model_file)\n",
        "    model_file.flush()\n",
        "    print('Model saved in /content/gdrive/My Drive/Colab Output')\n",
        "    !ls '/content/gdrive/My Drive/Colab Output'\n",
        "    drive.flush_and_unmount()\n",
        "    print('Re-run this cell if you cannot find it in https://drive.google.com')"
      ],
      "execution_count": null,
      "outputs": [
        {
          "output_type": "stream",
          "text": [
            "Drive already mounted at /content/gdrive; to attempt to forcibly remount, call drive.mount(\"/content/gdrive\", force_remount=True).\n",
            "Model saved in /content/gdrive/My Drive/Colab Output\n",
            "sa_classifier.pickle\n",
            "Re-run this cell if you cannot find it in https://drive.google.com\n"
          ],
          "name": "stdout"
        }
      ]
    },
    {
      "cell_type": "code",
      "metadata": {
        "id": "kDVhAqnN6rLB",
        "outputId": "a6d5cce2-f7d2-41b8-b005-87b04e94b913",
        "colab": {
          "base_uri": "https://localhost:8080/"
        }
      },
      "source": [
        "from nltk.stem import PorterStemmer # for stemming\n",
        "from nltk.tokenize import word_tokenize # for tokenization\n",
        "from nltk.stem import WordNetLemmatizer # for lemmatization\n",
        "\n",
        "from nltk.corpus import stopwords # to remove stopwords in text\n",
        "from string import punctuation # to remove punctuation in text\n",
        "from nltk.corpus import movie_reviews # to extract samples of movie reviews\n",
        "from random import shuffle # to shuffle the movie reviews for better accuracy\n",
        "\n",
        "from nltk.classify import NaiveBayesClassifier # model\n",
        "import sklearn\n",
        "from nltk.classify import SklearnClassifier\n",
        "from sklearn.naive_bayes import BernoulliNB\n",
        "from sklearn.svm import SVC\n",
        "\n",
        "\n",
        "features = model1.most_informative_features(100)\n",
        "most_informative = [feature[0] for feature in features]\n",
        "\n",
        "stopwords_eng = stopwords.words('english')\n",
        "nltk.download('wordnet')\n",
        "lemmatizer = WordNetLemmatizer()\n",
        "def extract_features(words):\n",
        "    return [lemmatizer.lemmatize(w) for w in words if w not in stopwords_eng and w not in punctuation and w in most_informative]\n",
        "\n",
        "def bag_of_words(words):\n",
        "    bag = {}\n",
        "    for w in words:\n",
        "        bag[w] = bag.get(w,0)+1\n",
        "    return bag\n",
        "\n",
        "reviews_pos = []\n",
        "reviews_neg = []\n",
        "for fileid in movie_reviews.fileids('pos'):\n",
        "    words = extract_features(movie_reviews.words(fileid))\n",
        "    reviews_pos.append((bag_of_words(words), 'pos'))\n",
        "for fileid in movie_reviews.fileids('neg'):\n",
        "    words = extract_features(movie_reviews.words(fileid))\n",
        "    reviews_neg.append((bag_of_words(words), 'neg'))\n",
        "  \n",
        "\n",
        "\n",
        "split_pct = .80\n",
        "\n",
        "def split_set(review_set):\n",
        "    split = int(len(review_set)*split_pct)\n",
        "    return (review_set[:split], review_set[split:])\n",
        "\n",
        "shuffle(reviews_pos)\n",
        "shuffle(reviews_neg)\n",
        "\n",
        "pos_train, pos_test = split_set(reviews_pos)\n",
        "neg_train, neg_test = split_set(reviews_neg)\n",
        "\n",
        "train_set = pos_train+neg_train\n",
        "test_set = pos_test+neg_test\n",
        "\n",
        "print(train_set[0])\n",
        "\n",
        "\n",
        "model1 = NaiveBayesClassifier.train(train_set)\n",
        "print('NaiveBayesClassifier Accuracy: ' + str(100 * accuracy(model1, test_set)))"
      ],
      "execution_count": 32,
      "outputs": [
        {
          "output_type": "stream",
          "text": [
            "[nltk_data] Downloading package wordnet to /root/nltk_data...\n",
            "[nltk_data]   Package wordnet is already up-to-date!\n",
            "({'best': 1, 'entire': 2}, 'pos')\n",
            "NaiveBayesClassifier Accuracy: 75.5\n"
          ],
          "name": "stdout"
        }
      ]
    },
    {
      "cell_type": "code",
      "metadata": {
        "id": "oc84PtruFhNt"
      },
      "source": [
        ""
      ],
      "execution_count": null,
      "outputs": []
    }
  ]
}